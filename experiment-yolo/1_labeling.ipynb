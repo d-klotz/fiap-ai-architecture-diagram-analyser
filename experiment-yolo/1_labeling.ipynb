{
 "cells": [
  {
   "metadata": {
    "ExecuteTime": {
     "end_time": "2025-06-25T15:37:48.134563Z",
     "start_time": "2025-06-25T15:37:47.475645Z"
    }
   },
   "cell_type": "code",
   "source": [
    "import os\n",
    "import pandas as pd\n",
    "\n",
    "# Configurações\n",
    "ICONS_DIR = \"new_icons\"  # Pasta onde estão seus 3 ícones\n",
    "OUTPUT_CSV = \"aws_labels.csv\"\n",
    "\n",
    "# Mapeamento manual (já que os nomes dos arquivos não seguem padrão AWS)\n",
    "SERVICE_MAP = {\n",
    "    \"Aurora.png\": \"Amazon Aurora\",\n",
    "    \"DynamoDB.png\": \"Amazon DynamoDB\",\n",
    "    \"RDS-on-VMware.png\": \"Amazon RDS on VMware\"\n",
    "}\n",
    "\n",
    "# Gera o CSV de labels\n",
    "labels = []\n",
    "for filename in os.listdir(ICONS_DIR):\n",
    "    if filename.endswith(\".png\"):\n",
    "        label = SERVICE_MAP.get(filename, \"unknown\")\n",
    "        labels.append({\"file\": filename, \"label\": label})\n",
    "\n",
    "pd.DataFrame(labels).to_csv(OUTPUT_CSV, index=False)\n",
    "print(f\"Labels gerados em {OUTPUT_CSV}!\")"
   ],
   "id": "b6ba9c6735654d4b",
   "outputs": [
    {
     "name": "stdout",
     "output_type": "stream",
     "text": [
      "Labels gerados em aws_labels.csv!\n"
     ]
    }
   ],
   "execution_count": 1
  },
  {
   "metadata": {},
   "cell_type": "markdown",
   "source": [
    "# **Etapa 1: Labeling de Ícones AWS**\n",
    "*(Geração do arquivo `aws_labels.csv`)*\n",
    "\n",
    "## **Objetivo**\n",
    "Criar um mapeamento entre os arquivos de ícones AWS e seus respectivos serviços para uso no pipeline de análise de ameaças STRIDE.\n",
    "\n",
    "## **Método**\n",
    "1. **Mapeamento Manual**:\n",
    "   - Associamos cada ícone a um serviço AWS usando um dicionário Python:\n",
    "     ```python\n",
    "     SERVICE_MAP = {\n",
    "         \"Aurora.png\": \"Amazon Aurora\",\n",
    "         \"DynamoDB.png\": \"Amazon DynamoDB\",\n",
    "         \"RDS-on-VMware.png\": \"Amazon RDS on VMware\"\n",
    "     }\n",
    "     ```\n",
    "2. **Geração do CSV**:\n",
    "   - Script `1_labeling.py` converte o dicionário em um arquivo `aws_labels.csv`:\n",
    "     ```csv\n",
    "     file,label\n",
    "     Aurora.png,Amazon Aurora\n",
    "     DynamoDB.png,Amazon DynamoDB\n",
    "     RDS-on-VMware.png,Amazon RDS on VMware\n",
    "     ```\n",
    "\n",
    "## **Próximas Etapas**\n",
    "- **Etapa 2 (Pré-processamento)**:\n",
    "  - Usará `aws_labels.csv` para processar os ícones (redimensionamento, fundo branco).\n",
    "- **Etapa 3 (Treinamento)**:\n",
    "  - Utilizará os labels para treinar o modelo YOLOv8 na detecção de componentes.\n",
    "\n",
    "\n",
    "## **Desafios: Abordagem Tradicional vs LLMs**\n",
    "\n",
    "| Desafio na Abordagem Tradicional | Solução com LLMs |\n",
    "|----------------------------------|------------------|\n",
    "| **Labels inconsistentes** - Erros humanos na nomeação de componentes | **Classificação contextualizada** - LLMs entendem o contexto do ícone/serviço |\n",
    "| **Manutenção demorada** - Requer atualização manual para novos serviços | **Zero-shot learning** - Classifica novos serviços sem retreinamento |\n",
    "| **Requer dataset grande** - Centenas de exemplos para treinar modelos CV | **Funciona com poucos exemplos** - Basta descrição textual do componente |"
   ],
   "id": "96fc5095292bdddd"
  }
 ],
 "metadata": {
  "kernelspec": {
   "name": "python3",
   "language": "python",
   "display_name": "Python 3 (ipykernel)"
  }
 },
 "nbformat": 5,
 "nbformat_minor": 9
}
