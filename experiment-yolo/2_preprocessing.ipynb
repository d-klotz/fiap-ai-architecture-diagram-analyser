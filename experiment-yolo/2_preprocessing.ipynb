{
 "cells": [
  {
   "metadata": {
    "ExecuteTime": {
     "end_time": "2025-06-25T15:38:28.969581Z",
     "start_time": "2025-06-25T15:38:28.673246Z"
    }
   },
   "cell_type": "code",
   "source": [
    "import cv2\n",
    "import numpy as np\n",
    "import os\n",
    "\n",
    "# Configurações\n",
    "INPUT_DIR = \"new_icons\"\n",
    "OUTPUT_DIR = \"dataset/processed_icons\"\n",
    "os.makedirs(OUTPUT_DIR, exist_ok=True)\n",
    "\n",
    "def process_icon(image_path, output_size=(64, 64)):\n",
    "    # Carrega imagem com transparência (canal alpha)\n",
    "    img = cv2.imread(image_path, cv2.IMREAD_UNCHANGED)\n",
    "\n",
    "    # Cria fundo branco\n",
    "    white_bg = np.ones((img.shape[0], img.shape[1], 3), dtype=np.uint8) * 255\n",
    "\n",
    "    # Combina ícone com fundo (considerando alpha)\n",
    "    if img.shape[2] == 4:  # Se tem canal alpha\n",
    "        alpha = img[:, :, 3] / 255.0\n",
    "        for c in range(3):\n",
    "            white_bg[:, :, c] = (img[:, :, c] * alpha) + (white_bg[:, :, c] * (1 - alpha))\n",
    "\n",
    "    # Redimensiona e salva\n",
    "    processed = cv2.resize(white_bg, output_size)\n",
    "    output_path = os.path.join(OUTPUT_DIR, os.path.basename(image_path))\n",
    "    cv2.imwrite(output_path, processed)\n",
    "    return processed\n",
    "\n",
    "# Processa todos os ícones\n",
    "for filename in os.listdir(INPUT_DIR):\n",
    "    if filename.endswith(\".png\"):\n",
    "        process_icon(f\"{INPUT_DIR}/{filename}\")\n",
    "        print(f\"Processado: {filename}\")\n",
    "\n",
    "print(\"Pré-processamento concluído!\")"
   ],
   "id": "49ef1601d6a4762a",
   "outputs": [
    {
     "name": "stdout",
     "output_type": "stream",
     "text": [
      "Processado: DynamoDB.png\n",
      "Processado: Aurora.png\n",
      "Processado: RDS-on-VMware.png\n",
      "Pré-processamento concluído!\n"
     ]
    }
   ],
   "execution_count": 1
  }
 ],
 "metadata": {
  "kernelspec": {
   "name": "python3",
   "language": "python",
   "display_name": "Python 3 (ipykernel)"
  }
 },
 "nbformat": 5,
 "nbformat_minor": 9
}
